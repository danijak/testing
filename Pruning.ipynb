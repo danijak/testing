{
  "nbformat": 4,
  "nbformat_minor": 0,
  "metadata": {
    "colab": {
      "name": "Pruning.ipynb",
      "provenance": [],
      "authorship_tag": "ABX9TyO46rsuxrrzNlGCSigb9lRl",
      "include_colab_link": true
    },
    "kernelspec": {
      "name": "python3",
      "display_name": "Python 3"
    }
  },
  "cells": [
    {
      "cell_type": "markdown",
      "metadata": {
        "id": "view-in-github",
        "colab_type": "text"
      },
      "source": [
        "<a href=\"https://colab.research.google.com/github/danijak/testing/blob/master/Pruning.ipynb\" target=\"_parent\"><img src=\"https://colab.research.google.com/assets/colab-badge.svg\" alt=\"Open In Colab\"/></a>"
      ]
    },
    {
      "cell_type": "code",
      "metadata": {
        "id": "U7QQukzlpQFF"
      },
      "source": [
        "import tensorflow as tf\n",
        "import numpy as np\n",
        "from tensorflow import keras"
      ],
      "execution_count": 2,
      "outputs": []
    },
    {
      "cell_type": "code",
      "metadata": {
        "id": "JA4l5CWYsfmA"
      },
      "source": [
        "# loading the MNIST dataset from keras\n",
        "data = keras.datasets.mnist "
      ],
      "execution_count": 3,
      "outputs": []
    },
    {
      "cell_type": "code",
      "metadata": {
        "id": "pQTTCIVss8Iz"
      },
      "source": [
        "# training & testing split\n",
        "(train_images, train_labels), (test_images, test_labels) = data.load_data()"
      ],
      "execution_count": 47,
      "outputs": []
    },
    {
      "cell_type": "code",
      "metadata": {
        "id": "L9xHynUtvBj-"
      },
      "source": [
        "# Input Normalize to get it into 0-1\n",
        "train_images = train_images/255.0\n",
        "test_images = test_images/255.0\n"
      ],
      "execution_count": 48,
      "outputs": []
    },
    {
      "cell_type": "code",
      "metadata": {
        "id": "egQQjDd83CCB",
        "outputId": "3f7e49e7-69bd-412b-95f9-ac2cf74ec5e0",
        "colab": {
          "base_uri": "https://localhost:8080/",
          "height": 323
        }
      },
      "source": [
        "# model\n",
        "model = keras.models.Sequential()\n",
        "model.add(keras.layers.InputLayer(input_shape=(28,28)))\n",
        "model.add(keras.layers.Reshape(target_shape=(28,28,1)))\n",
        "model.add(keras.layers.Conv2D(12,kernel_size=(3,3),activation='relu'))\n",
        "model.add(keras.layers.MaxPool2D(pool_size=(2,2)))\n",
        "model.add(keras.layers.Flatten())\n",
        "model.add(keras.layers.Dense(10))\n",
        "model.summary()"
      ],
      "execution_count": 51,
      "outputs": [
        {
          "output_type": "stream",
          "text": [
            "Model: \"sequential_12\"\n",
            "_________________________________________________________________\n",
            "Layer (type)                 Output Shape              Param #   \n",
            "=================================================================\n",
            "reshape_1 (Reshape)          (None, 28, 28, 1)         0         \n",
            "_________________________________________________________________\n",
            "conv2d_12 (Conv2D)           (None, 26, 26, 12)        120       \n",
            "_________________________________________________________________\n",
            "max_pooling2d_12 (MaxPooling (None, 13, 13, 12)        0         \n",
            "_________________________________________________________________\n",
            "flatten_9 (Flatten)          (None, 2028)              0         \n",
            "_________________________________________________________________\n",
            "dense_15 (Dense)             (None, 10)                20290     \n",
            "=================================================================\n",
            "Total params: 20,410\n",
            "Trainable params: 20,410\n",
            "Non-trainable params: 0\n",
            "_________________________________________________________________\n"
          ],
          "name": "stdout"
        }
      ]
    },
    {
      "cell_type": "code",
      "metadata": {
        "id": "VPwqGe699tb_",
        "outputId": "050e0f20-9cc1-4c1e-982b-d2f2552223ed",
        "colab": {
          "base_uri": "https://localhost:8080/",
          "height": 204
        }
      },
      "source": [
        "#Train the model\n",
        "model.compile(optimizer='adam', loss=keras.losses.SparseCategoricalCrossentropy(from_logits=True), metrics=['accuracy'])\n",
        "model.fit(x=train_images, y=train_labels, batch_size=32, epochs=5, validation_split=0.1)"
      ],
      "execution_count": 55,
      "outputs": [
        {
          "output_type": "stream",
          "text": [
            "Epoch 1/5\n",
            "1688/1688 [==============================] - 18s 11ms/step - loss: 0.2577 - accuracy: 0.9290 - val_loss: 0.1089 - val_accuracy: 0.9702\n",
            "Epoch 2/5\n",
            "1688/1688 [==============================] - 18s 10ms/step - loss: 0.1043 - accuracy: 0.9703 - val_loss: 0.0768 - val_accuracy: 0.9788\n",
            "Epoch 3/5\n",
            "1688/1688 [==============================] - 18s 11ms/step - loss: 0.0791 - accuracy: 0.9765 - val_loss: 0.0706 - val_accuracy: 0.9810\n",
            "Epoch 4/5\n",
            "1688/1688 [==============================] - 18s 11ms/step - loss: 0.0666 - accuracy: 0.9803 - val_loss: 0.0669 - val_accuracy: 0.9832\n",
            "Epoch 5/5\n",
            "1688/1688 [==============================] - 18s 11ms/step - loss: 0.0577 - accuracy: 0.9827 - val_loss: 0.0636 - val_accuracy: 0.9845\n"
          ],
          "name": "stdout"
        },
        {
          "output_type": "execute_result",
          "data": {
            "text/plain": [
              "<tensorflow.python.keras.callbacks.History at 0x7eff0fddc940>"
            ]
          },
          "metadata": {
            "tags": []
          },
          "execution_count": 55
        }
      ]
    },
    {
      "cell_type": "code",
      "metadata": {
        "id": "VorQUCsU_zKr",
        "outputId": "b94a539d-7d4b-408a-9e54-de894d781211",
        "colab": {
          "base_uri": "https://localhost:8080/",
          "height": 51
        }
      },
      "source": [
        "# Evaluate\n",
        "print(model.evaluate(x=test_images, y=test_labels))\n"
      ],
      "execution_count": 56,
      "outputs": [
        {
          "output_type": "stream",
          "text": [
            "313/313 [==============================] - 2s 5ms/step - loss: 0.0657 - accuracy: 0.9793\n",
            "[0.0657241940498352, 0.9793000221252441]\n"
          ],
          "name": "stdout"
        }
      ]
    },
    {
      "cell_type": "code",
      "metadata": {
        "id": "cQpnV8GGG_lZ",
        "outputId": "1e788bba-ae86-4c07-a6e6-07d35b1a6531",
        "colab": {
          "base_uri": "https://localhost:8080/",
          "height": 173
        }
      },
      "source": [
        "! pip install tensorflow_model_optimization"
      ],
      "execution_count": 57,
      "outputs": [
        {
          "output_type": "stream",
          "text": [
            "Collecting tensorflow_model_optimization\n",
            "\u001b[?25l  Downloading https://files.pythonhosted.org/packages/55/38/4fd48ea1bfcb0b6e36d949025200426fe9c3a8bfae029f0973d85518fa5a/tensorflow_model_optimization-0.5.0-py2.py3-none-any.whl (172kB)\n",
            "\r\u001b[K     |██                              | 10kB 15.5MB/s eta 0:00:01\r\u001b[K     |███▉                            | 20kB 1.8MB/s eta 0:00:01\r\u001b[K     |█████▊                          | 30kB 2.3MB/s eta 0:00:01\r\u001b[K     |███████▋                        | 40kB 2.5MB/s eta 0:00:01\r\u001b[K     |█████████▌                      | 51kB 2.0MB/s eta 0:00:01\r\u001b[K     |███████████▍                    | 61kB 2.3MB/s eta 0:00:01\r\u001b[K     |█████████████▎                  | 71kB 2.5MB/s eta 0:00:01\r\u001b[K     |███████████████▏                | 81kB 2.7MB/s eta 0:00:01\r\u001b[K     |█████████████████               | 92kB 2.9MB/s eta 0:00:01\r\u001b[K     |███████████████████             | 102kB 2.8MB/s eta 0:00:01\r\u001b[K     |████████████████████▉           | 112kB 2.8MB/s eta 0:00:01\r\u001b[K     |██████████████████████▊         | 122kB 2.8MB/s eta 0:00:01\r\u001b[K     |████████████████████████▊       | 133kB 2.8MB/s eta 0:00:01\r\u001b[K     |██████████████████████████▋     | 143kB 2.8MB/s eta 0:00:01\r\u001b[K     |████████████████████████████▌   | 153kB 2.8MB/s eta 0:00:01\r\u001b[K     |██████████████████████████████▍ | 163kB 2.8MB/s eta 0:00:01\r\u001b[K     |████████████████████████████████| 174kB 2.8MB/s \n",
            "\u001b[?25hRequirement already satisfied: six~=1.10 in /usr/local/lib/python3.6/dist-packages (from tensorflow_model_optimization) (1.15.0)\n",
            "Requirement already satisfied: dm-tree~=0.1.1 in /usr/local/lib/python3.6/dist-packages (from tensorflow_model_optimization) (0.1.5)\n",
            "Requirement already satisfied: numpy~=1.14 in /usr/local/lib/python3.6/dist-packages (from tensorflow_model_optimization) (1.18.5)\n",
            "Installing collected packages: tensorflow-model-optimization\n",
            "Successfully installed tensorflow-model-optimization-0.5.0\n"
          ],
          "name": "stdout"
        }
      ]
    },
    {
      "cell_type": "code",
      "metadata": {
        "id": "5hSkJuJrER4w",
        "outputId": "4b6f7660-ee0f-4cad-aa43-94d26795bd66",
        "colab": {
          "base_uri": "https://localhost:8080/",
          "height": 323
        }
      },
      "source": [
        "# Pre trained model with pruning\n",
        "import tensorflow_model_optimization as tfmot\n",
        "num_images = train_images.shape[0] * 0.9\n",
        "end_step = np.ceil(num_images / 128).astype(np.int32) * 2\n",
        "\n",
        "# Model for pruning\n",
        "pruning_params = {\n",
        "      'pruning_schedule': tfmot.sparsity.keras.PolynomialDecay(initial_sparsity=0.50,\n",
        "                                                               final_sparsity=0.80,\n",
        "                                                               begin_step=0,\n",
        "                                                               end_step=end_step)\n",
        "}\n",
        "model_for_pruning=tfmot.sparsity.keras.prune_low_magnitude(model,**pruning_params)\n",
        "\n",
        "\n",
        "# Compile model\n",
        "model_for_pruning.compile(\n",
        "      loss=tf.keras.losses.SparseCategoricalCrossentropy(from_logits=True),\n",
        "      optimizer='adam',\n",
        "      metrics=['accuracy']\n",
        ")\n",
        "model_for_pruning.summary()"
      ],
      "execution_count": 73,
      "outputs": [
        {
          "output_type": "stream",
          "text": [
            "Model: \"sequential_12\"\n",
            "_________________________________________________________________\n",
            "Layer (type)                 Output Shape              Param #   \n",
            "=================================================================\n",
            "prune_low_magnitude_reshape_ (None, 28, 28, 1)         1         \n",
            "_________________________________________________________________\n",
            "prune_low_magnitude_conv2d_1 (None, 26, 26, 12)        230       \n",
            "_________________________________________________________________\n",
            "prune_low_magnitude_max_pool (None, 13, 13, 12)        1         \n",
            "_________________________________________________________________\n",
            "prune_low_magnitude_flatten_ (None, 2028)              1         \n",
            "_________________________________________________________________\n",
            "prune_low_magnitude_dense_15 (None, 10)                40572     \n",
            "=================================================================\n",
            "Total params: 40,805\n",
            "Trainable params: 20,410\n",
            "Non-trainable params: 20,395\n",
            "_________________________________________________________________\n"
          ],
          "name": "stdout"
        }
      ]
    },
    {
      "cell_type": "code",
      "metadata": {
        "id": "0t59CACuHs33",
        "outputId": "d2978f16-5b07-42ee-9960-f6bd2b0d5bd2",
        "colab": {
          "base_uri": "https://localhost:8080/",
          "height": 102
        }
      },
      "source": [
        "# fitting \n",
        "model_for_pruning.fit(train_images, train_labels,batch_size=128, epochs=2, validation_split=0.1, callbacks=tfmot.sparsity.keras.UpdatePruningStep())"
      ],
      "execution_count": 74,
      "outputs": [
        {
          "output_type": "stream",
          "text": [
            "Epoch 1/2\n",
            "422/422 [==============================] - 13s 32ms/step - loss: 0.0781 - accuracy: 0.9782 - val_loss: 0.0731 - val_accuracy: 0.9793\n",
            "Epoch 2/2\n",
            "422/422 [==============================] - 13s 32ms/step - loss: 0.0743 - accuracy: 0.9786 - val_loss: 0.0737 - val_accuracy: 0.9803\n"
          ],
          "name": "stdout"
        },
        {
          "output_type": "execute_result",
          "data": {
            "text/plain": [
              "<tensorflow.python.keras.callbacks.History at 0x7eff01327e10>"
            ]
          },
          "metadata": {
            "tags": []
          },
          "execution_count": 74
        }
      ]
    },
    {
      "cell_type": "code",
      "metadata": {
        "id": "q9Xfg2QVHtjr",
        "outputId": "6e493e94-56c4-465d-8a54-6cf93c39e0f2",
        "colab": {
          "base_uri": "https://localhost:8080/",
          "height": 51
        }
      },
      "source": [
        "print(model_for_pruning.evaluate(x=test_images, y=test_labels))"
      ],
      "execution_count": 75,
      "outputs": [
        {
          "output_type": "stream",
          "text": [
            "313/313 [==============================] - 2s 5ms/step - loss: 0.0832 - accuracy: 0.9767\n",
            "[0.08324266970157623, 0.9767000079154968]\n"
          ],
          "name": "stdout"
        }
      ]
    }
  ]
}